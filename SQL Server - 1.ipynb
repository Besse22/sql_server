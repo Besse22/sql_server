{
    "metadata": {
        "kernelspec": {
            "name": "SQL",
            "display_name": "SQL",
            "language": "sql"
        },
        "language_info": {
            "name": "sql",
            "version": ""
        }
    },
    "nbformat_minor": 2,
    "nbformat": 4,
    "cells": [
        {
            "cell_type": "code",
            "source": [
                "CREATE DATABASE INSURER;"
            ],
            "metadata": {
                "azdata_cell_guid": "3c89fb76-0bc9-4cbd-98cd-1a92b2857353"
            },
            "outputs": [
                {
                    "output_type": "display_data",
                    "data": {
                        "text/html": "Commands completed successfully."
                    },
                    "metadata": {}
                },
                {
                    "output_type": "display_data",
                    "data": {
                        "text/html": "Total execution time: 00:00:00.134"
                    },
                    "metadata": {}
                }
            ],
            "execution_count": 2
        },
        {
            "cell_type": "code",
            "source": [
                "USE INSURER;"
            ],
            "metadata": {
                "azdata_cell_guid": "205fd959-da6d-4b27-a059-98092cf180e3"
            },
            "outputs": [
                {
                    "output_type": "display_data",
                    "data": {
                        "text/html": "Commands completed successfully."
                    },
                    "metadata": {}
                },
                {
                    "output_type": "display_data",
                    "data": {
                        "text/html": "Total execution time: 00:00:00.057"
                    },
                    "metadata": {}
                }
            ],
            "execution_count": 3
        },
        {
            "cell_type": "code",
            "source": [
                "CREATE TABLE Cliente(\r\n",
                "    CodCliente INT PRIMARY KEY,\r\n",
                "    NOME VARCHAR(45) NOT NULL,\r\n",
                "    CPF VARCHAR(45) NOT NULL UNIQUE,\r\n",
                "    Sexo VARCHAR(45),\r\n",
                "    Estado VARCHAR(45),\r\n",
                "    Cidade VARCHAR(45) DEFAULT 'Itapira',\r\n",
                "    Bairro VARCHAR(45),\r\n",
                "    Numero VARCHAR(45),\r\n",
                "    Rua VARCHAR(45),\r\n",
                "    TelefoneFixo VARCHAR(45),\r\n",
                "    TelefoneCelular VARCHAR(45) NOT NULL UNIQUE\r\n",
                ");"
            ],
            "metadata": {
                "azdata_cell_guid": "e62210b7-d884-4f24-b1a3-b71cf8f55b45"
            },
            "outputs": [
                {
                    "output_type": "display_data",
                    "data": {
                        "text/html": "Commands completed successfully."
                    },
                    "metadata": {}
                },
                {
                    "output_type": "display_data",
                    "data": {
                        "text/html": "Total execution time: 00:00:00.014"
                    },
                    "metadata": {}
                }
            ],
            "execution_count": 4
        },
        {
            "cell_type": "code",
            "source": [
                "CREATE TABLE Carro(\r\n",
                "    CodCarro INT PRIMARY KEY,\r\n",
                "    Placa VARCHAR(45),\r\n",
                "    Marca VARCHAR(45),\r\n",
                "    Modelo VARCHAR(45),\r\n",
                "    Ano VARCHAR(45),\r\n",
                "    Chassi VARCHAR(45),\r\n",
                "    Cor VARCHAR(45),\r\n",
                ")"
            ],
            "metadata": {
                "azdata_cell_guid": "32206865-3c58-453c-af4e-ebc6a832008c"
            },
            "outputs": [
                {
                    "output_type": "display_data",
                    "data": {
                        "text/html": "Commands completed successfully."
                    },
                    "metadata": {}
                },
                {
                    "output_type": "display_data",
                    "data": {
                        "text/html": "Total execution time: 00:00:00.010"
                    },
                    "metadata": {}
                }
            ],
            "execution_count": 5
        },
        {
            "cell_type": "code",
            "source": [
                "CREATE TABLE Apolice(\r\n",
                "    CodApolice INT PRIMARY KEY,\r\n",
                "    ValorCobertura DECIMAL NOT NULL,\r\n",
                "    ValorFranquia DECIMAL NOT NULL,\r\n",
                "    Cliente_CodCliente INT, Carro_CodCarro INT,\r\n",
                "    DataInicioVigencia DATE CHECK(DataInicioVigencia > GETDATE()),\r\n",
                "    FOREIGN KEY (Cliente_CodCliente) REFERENCES Cliente(CodCliente),\r\n",
                "    FOREIGN KEY (Carro_CodCarro) REFERENCES Carro(CodCarro)\r\n",
                ");"
            ],
            "metadata": {
                "azdata_cell_guid": "ecd7e4ba-6f1e-480f-bd3c-accea129e041"
            },
            "outputs": [
                {
                    "output_type": "display_data",
                    "data": {
                        "text/html": "Commands completed successfully."
                    },
                    "metadata": {}
                },
                {
                    "output_type": "display_data",
                    "data": {
                        "text/html": "Total execution time: 00:00:00.004"
                    },
                    "metadata": {}
                }
            ],
            "execution_count": 7
        },
        {
            "cell_type": "code",
            "source": [
                "CREATE TABLE Sinistro(\r\n",
                "    CodSinistro INT,\r\n",
                "    HoraSinistro INT,\r\n",
                "    DataSinistro DATE,\r\n",
                "    LocalSinistro VARCHAR(45),\r\n",
                "    Condutor VARCHAR(45),\r\n",
                "    Carro_CodCarro INT,\r\n",
                "    CONSTRAINT pk_sinistro PRIMARY KEY(CodSinistro, Carro_CodCarro)\r\n",
                ")\r\n",
                ""
            ],
            "metadata": {
                "azdata_cell_guid": "392c99cf-c15b-4810-920d-5855e03afcdc"
            },
            "outputs": [
                {
                    "output_type": "display_data",
                    "data": {
                        "text/html": "Commands completed successfully."
                    },
                    "metadata": {}
                },
                {
                    "output_type": "display_data",
                    "data": {
                        "text/html": "Total execution time: 00:00:00.009"
                    },
                    "metadata": {}
                }
            ],
            "execution_count": 8
        }
    ]
}